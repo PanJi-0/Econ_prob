{
 "cells": [
  {
   "cell_type": "markdown",
   "metadata": {
    "pycharm": {
     "name": "#%% md\n"
    }
   },
   "source": [
    "# Statistics"
   ]
  },
  {
   "cell_type": "markdown",
   "metadata": {},
   "source": [
    "\n",
    "Statistic theory goes the opposite way to probability theory. In reality what we observe is a sample of data, but we don't know via what mechanism the data are generated. Statistics asks how can we infer the data generating process from the sample that we observe. For example, if we assume the sample comes from a normal distribution, what is the best way that we learn the population mean and variance? Do the data provide sufficient evidence that two samples are drawn from populations of the same means? Statistics uses the sample to compute some numbers, while the underlying probability model guides the interpretation of these numbers."
   ]
  },
  {
   "cell_type": "markdown",
   "metadata": {
    "pycharm": {
     "name": "#%% md\n"
    }
   },
   "source": [
    "**Example** \n",
    "\n",
    "This is a sample of 100 accounts from\n",
    "[HK top 300 Youtubers](https://www.kaggle.com/datasets/patriotboy112/hks-top-300-youtubers) in the previous lecture."
   ]
  },
  {
   "cell_type": "code",
   "execution_count": null,
   "metadata": {
    "pycharm": {
     "name": "#%%\n"
    },
    "vscode": {
     "languageId": "r"
    }
   },
   "outputs": [],
   "source": [
    "load(\"logYoutuber_sample.Rdata\")\n",
    "n <- nrow(d1.log.sub)"
   ]
  },
  {
   "cell_type": "markdown",
   "metadata": {
    "pycharm": {
     "name": "#%% md\n"
    }
   },
   "source": [
    "Point estimates"
   ]
  },
  {
   "cell_type": "code",
   "execution_count": null,
   "metadata": {
    "pycharm": {
     "name": "#%%\n"
    },
    "vscode": {
     "languageId": "r"
    }
   },
   "outputs": [],
   "source": [
    "mu <- mean(d1.log.sub[[\"count\"]])\n",
    "print(mu)"
   ]
  },
  {
   "cell_type": "code",
   "execution_count": null,
   "metadata": {
    "pycharm": {
     "name": "#%%\n"
    },
    "vscode": {
     "languageId": "r"
    }
   },
   "outputs": [],
   "source": [
    "sigma <- sd(d1.log.sub[[\"count\"]])\n",
    "print(sigma^2)"
   ]
  },
  {
   "cell_type": "markdown",
   "metadata": {
    "pycharm": {
     "name": "#%% md\n"
    }
   },
   "source": [
    "We are interested in the *sample mean*, as it tells us the location of the center in the probability weighted average, or *population mean* $\\mu = E[X_i]$.\n",
    "We are also interested in the *sample variance*, as it tells us the scale of spread of the sample, or *population variance* $\\sigma^2 = var(X_i)$.\n",
    "\n",
    "In this example, we can view the sample as a multinomial distribution with $n$ outcomes at the observed realized points. \n",
    "Since each observation is drawn randomly and independently, everyone is equally important.\n",
    "Assigning equal probability $1/n$ on each point naturally delivers the sample mean $\\hat{\\mu} = \\bar{X} = n^{-1} \\sum_{i=1}^n X_i.$\n",
    "Similarly, a widely used sample variance is computed as $s^2 = (n-1)^{-1} \\sum_{i=1}^n (X_i - \\hat{\\mu})^2$."
   ]
  },
  {
   "cell_type": "markdown",
   "metadata": {},
   "source": [
    "More generally, for $p>0$ the statistic $n^{-1} \\sum_{i=1}^n x_i^p$ is called the $p$-th sample moment, and $n^{-1} \\sum_{i=1}^n (X_i - \\bar{X})^p$ is called the $p$-th centered moment. "
   ]
  },
  {
   "cell_type": "markdown",
   "metadata": {
    "pycharm": {
     "name": "#%% md\n"
    }
   },
   "source": [
    "## Estimation methods\n",
    "\n",
    "Suppose that the data are generated from a parametric model. Statistical\n",
    "estimation is an \"educated guess\" of the unknown parameter from the observed data. A\n",
    "*principle* is an ideology about a proper way of estimation. Over the\n",
    "history of statistics, only a few principles are widely accepted.\n",
    "The two most popular methods are the *method of moments* and the *maximum likelihood method*. \n",
    "\n"
   ]
  },
  {
   "cell_type": "markdown",
   "metadata": {
    "pycharm": {
     "name": "#%% md\n"
    }
   },
   "source": [
    "### Method of moments\n",
    "\n",
    "The method of moments expresses some moments as functions \n",
    "of these parameters. \n",
    "We use the sample moments to mimic the corresponding population moments. \n",
    "Then we invert the functions to back out the parameters. \n",
    "\n",
    "**Example**\n",
    "\n",
    "A normal distribution is completely characterized by $\\mu$ and $\\sigma^2$. The following two estimates \n",
    "are the method of moments estimates of the two parameters. \n"
   ]
  },
  {
   "cell_type": "code",
   "execution_count": null,
   "metadata": {
    "pycharm": {
     "name": "#%%\n"
    },
    "vscode": {
     "languageId": "r"
    }
   },
   "outputs": [],
   "source": [
    "x <- rnorm(20)\n",
    "mean(x)\n",
    "var(x)"
   ]
  },
  {
   "cell_type": "markdown",
   "metadata": {
    "pycharm": {
     "name": "#%% md\n"
    }
   },
   "source": [
    "\n",
    "**Example**: \n",
    "\n",
    "The $t$ distribution has one parameter, its degree of freedom $\\nu$. The variance of $t(\\nu)$, if $\\nu >2$,  is  $\\sigma^2 = \\nu / (\\nu - 2)$.\n",
    "From the data, we estimate $\\hat{\\sigma}^2$, and then solve $\\hat{\\sigma}^2 = \\nu / (\\nu - 2)$ to get\n",
    "\n",
    "$$\n",
    "  \\hat{\\nu} = \\frac{2\\hat{\\sigma}^2}{\\hat{\\sigma}^2 - 1}\n",
    "$$\n",
    "\n",
    "Note: The population variance of $t$ distribution is no smaller than 1.\n",
    "\n",
    "\n",
    "\n",
    "\n"
   ]
  },
  {
   "cell_type": "markdown",
   "metadata": {
    "pycharm": {
     "name": "#%% md\n"
    }
   },
   "source": [
    "### Maximum likelihood\n",
    "\n",
    "The maximum likelihood estimation (MLE) looks for the value of the parameter that maximizes the log-likelihood. Because by the concavity of logarithm, the true parameter is the value that maximizes the expected likelihood function. In reality, we maximize its empirical version. "
   ]
  },
  {
   "cell_type": "markdown",
   "metadata": {},
   "source": [
    "\n",
    "\n",
    "Consider a random sample \n",
    "drawn from a parametric\n",
    "distribution with density $f\\left(x;\\theta\\right)$, where\n",
    "$x$ is either a scalar random variable or a random vector. A\n",
    "parametric distribution is completely characterized by a\n",
    "finite-dimensional parameter $\\theta$. We use the data to estimate $\\theta$.\n",
    "\n",
    "The log-likelihood of observing the entire *random* sample $\\mathbf{X}=(X_1,X_2,\\ldots,X_n)$ is\n",
    "\n",
    "$$\n",
    "  L_{n}\\left(\\theta;\\mathbf{X}\\right):=\\log\\left(\\prod_{i=1}^{n}f\\left(X_{i};\\theta\\right)\\right)=\\sum_{i=1}^{n}\\log f\\left(X_{i};\\theta\\right).\n",
    "$$\n",
    "\n",
    "In reality the sample $\\mathbf{X}$ is given and for each $\\theta\\in\\Theta$ we can\n",
    "evaluate $L_{n}\\left(\\theta;X\\right)$. The maximum likelihood estimator\n",
    "is\n",
    "\n",
    "$$\\widehat{\\theta}_{MLE}:=\\arg\\max_{\\theta\\in\\Theta}L_{n}\\left(\\theta;\\mathbf{X}\\right).$$\n",
    "\n",
    "This $\\widehat{\\theta}_{MLE}$ makes observing $X$ the\n",
    "“most likely” in the entire parametric space.\n",
    "A formal justification of MLE uses the terminology the *Kullback-Leibler information criterion*,\n",
    "which is a measurement of the \"distance\" or \"divergence\" between two distributions. This information criterion is maximized at the true parameter value.\n",
    "\n"
   ]
  },
  {
   "cell_type": "markdown",
   "metadata": {
    "pycharm": {
     "name": "#%% md\n"
    }
   },
   "source": [
    "**Example**\n",
    "\n",
    "Consider the Gaussian location model $X_{i}\\sim N\\left(\\mu,1\\right)$,\n",
    "where $\\mu$ is the unknown parameter to be estimated. The likelihood of\n",
    "observing $X_{i}$ is\n",
    "$f\\left(X_{i};\\mu\\right)=\\frac{1}{\\sqrt{2\\pi}}\\exp\\left(-\\frac{1}{2}\\left(X_{i}-\\mu\\right)^{2}\\right)$.\n",
    "The likelihood of observing the sample $\\mathbf{X}$ is\n",
    "\n",
    "$$f\\left(\\mathbf{X};\\mu\\right)=\\prod_{i=1}^{n}\\frac{1}{\\sqrt{2\\pi}}\\exp\\left(-\\frac{1}{2}\\left(X_{i}-\\mu\\right)^{2}\\right)$$\n",
    "\n",
    "and the log-likelihood is\n",
    "\n",
    "$$L_{n}\\left(\\mu;\\mathbf{X}\\right)=-\\frac{n}{2}\\log\\left(2\\pi\\right)-\\frac{1}{2}\\sum_{i=1}^{n}\\left(X_{i}-\\mu\\right)^{2}.$$"
   ]
  },
  {
   "cell_type": "markdown",
   "metadata": {
    "pycharm": {
     "name": "#%% md\n"
    }
   },
   "source": [
    "In the above example, if the variance is unknown, it can be included as another parameter to optimize the log-likelihood function. \n",
    "The MLE estimator of the variance, in this example of normal distribution, is $\\hat{\\sigma}^2 = n^{-1} \\sum_{i=1}^n (X_i - \\bar{X})^2$.\n",
    "Notice the denominator here is $n$, instead of $(n-1)$ as in $s^2$. While $s^2$ is an unbiased estimator for the variance, the MLE estimator for the variance here is therefore biased. "
   ]
  },
  {
   "cell_type": "markdown",
   "metadata": {
    "pycharm": {
     "name": "#%% md\n"
    }
   },
   "source": [
    "## Statistic Inference"
   ]
  },
  {
   "cell_type": "markdown",
   "metadata": {
    "pycharm": {
     "name": "#%% md\n"
    }
   },
   "source": [
    "We are interesting in relating the statistic to the population. \n",
    "Suppose $X_i$'s randomly drawn from a distribution, and we would like to learn the mean $\\mu: = E[X_i]$.\n",
    "The sample mean is a natural estimator for $\\mu$."
   ]
  },
  {
   "cell_type": "markdown",
   "metadata": {},
   "source": [
    "\n",
    "Interval estimation quantifies the uncertainty of the estimator. The most familiar formula might be\n",
    "\n",
    "$$\n",
    "\\left(\n",
    "\\hat{\\mu} - \\frac{1.96}{\\sqrt{n}} \\hat{\\sigma}, \n",
    "\\hat{\\mu} + \\frac{1.96}{\\sqrt{n}} \\hat{\\sigma}\n",
    "\\right).\n",
    "$$\n",
    "\n",
    "We will explain the rationale behind this formula.\n"
   ]
  },
  {
   "cell_type": "code",
   "execution_count": null,
   "metadata": {
    "pycharm": {
     "name": "#%%\n"
    },
    "vscode": {
     "languageId": "r"
    }
   },
   "outputs": [],
   "source": [
    "CI <- function(x) {# x is a vector of random variables\n",
    "  # nominal coverage probability is 95%\n",
    "  n <- length(x)\n",
    "  mu <- mean(x)\n",
    "  sig <- sd(x)\n",
    "  upper <- mu + 1.96 / sqrt(n) * sig\n",
    "  lower <- mu - 1.96 / sqrt(n) * sig\n",
    "  return(list(lower = lower, upper = upper))\n",
    "}"
   ]
  },
  {
   "cell_type": "code",
   "execution_count": null,
   "metadata": {
    "pycharm": {
     "name": "#%%\n"
    },
    "vscode": {
     "languageId": "r"
    }
   },
   "outputs": [],
   "source": [
    "CI(d1.log.sub[[\"count\"]])"
   ]
  },
  {
   "cell_type": "markdown",
   "metadata": {},
   "source": [
    "An interval estimator is constructed according to a *sampling distribution*.\n",
    "The sampling distribution is the distribution of a statistic. "
   ]
  },
  {
   "cell_type": "markdown",
   "metadata": {
    "pycharm": {
     "name": "#%% md\n"
    }
   },
   "source": [
    "**Example**\n",
    "\n",
    "Sampling distributions. Under normal distribution\n",
    "\n",
    "* Assume $X_i \\sim N(\\mu, \\sigma^2)$ with a known variance. Then $\\bar{X} \\sim N(\\mu, \\sigma^2 / n)$.\n",
    "* Assume $X_i \\sim N(\\mu, \\sigma^2)$ with a unknown variance. Then $\\frac{\\bar{X} - \\mu}{s} \\sim t(n-1)$.\n",
    "* Assume $X_i \\sim (\\mu, \\sigma^2)$ with a finite variance variance. \n",
    "$\\sqrt{n} \\frac{\\bar{X} - \\mu}{\\sigma} \\stackrel{d}{\\rightarrow} N(0, 1)$. (to be discussed in asymptotic theory)"
   ]
  },
  {
   "cell_type": "markdown",
   "metadata": {
    "pycharm": {
     "name": "#%% md\n"
    }
   },
   "source": [
    "**Simulation example**"
   ]
  },
  {
   "cell_type": "markdown",
   "metadata": {
    "pycharm": {
     "name": "#%% md\n"
    }
   },
   "source": [
    "In a simulation, we compute the empirical coverage probability of the formula of the confidence interval."
   ]
  },
  {
   "cell_type": "code",
   "execution_count": null,
   "metadata": {
    "pycharm": {
     "name": "#%%\n"
    },
    "vscode": {
     "languageId": "r"
    }
   },
   "outputs": [],
   "source": [
    "Rep <- 1000\n",
    "sample_size <- 10\n",
    "capture <- rep(0, Rep)\n",
    "Bounds <- matrix(0, nrow = Rep, ncol = 2)\n",
    "for (i in 1:Rep) {\n",
    "  x <- rpois(sample_size, 2)\n",
    "  bounds <- CI(x)\n",
    "  capture[i] <- ((bounds$lower <= mu) & (mu <= bounds$upper))\n",
    "  Bounds[i,] <- unlist( bounds )\n",
    "}\n",
    "cat(\"the emprical coverage probability = \", mean(capture)) # empirical size"
   ]
  },
  {
   "cell_type": "markdown",
   "metadata": {
    "pycharm": {
     "name": "#%% md\n"
    }
   },
   "source": []
  },
  {
   "cell_type": "markdown",
   "metadata": {
    "pycharm": {
     "name": "#%% md\n"
    }
   },
   "source": [
    "*Coverage probability* is the probability that the confidence interval captures the true value in repeated sampling.\n",
    "Here the confidence interval is random while the true value is fixed.\n",
    "\n",
    "**Simulation example**\n",
    "\n",
    "Witness the confidence intervals from 25 replications."
   ]
  },
  {
   "cell_type": "code",
   "execution_count": null,
   "metadata": {
    "pycharm": {
     "name": "#%%\n"
    },
    "vscode": {
     "languageId": "r"
    }
   },
   "outputs": [],
   "source": [
    "Bounds25 <- Bounds[1:25, ]\n",
    "plot(1, type=\"n\", xlab=\"\", ylab=\"\", \n",
    "     ylim=c(min(Bounds25), max(Bounds25)), xlim=c(1, 25))\n",
    "segments(x0= 1:25, y0=Bounds25[,1], x1 = 1:25, y1 = Bounds25[,2])\n",
    "abline(h=2, col = \"red\", lty = 2, lwd = 2)"
   ]
  },
  {
   "cell_type": "markdown",
   "metadata": {
    "pycharm": {
     "name": "#%% md\n"
    }
   },
   "source": [
    "It is important to understand that the coverage probability is not the probability that the parameter falls into a fixed interval, which is the interpretation of the *Bayesian credit interval*. \n",
    "The latter requires different way for construction."
   ]
  },
  {
   "cell_type": "markdown",
   "metadata": {
    "pycharm": {
     "name": "#%% md\n"
    }
   },
   "source": [
    "### Hypothesis Testing"
   ]
  },
  {
   "cell_type": "markdown",
   "id": "1dfc42d5",
   "metadata": {
    "pycharm": {
     "name": "#%% md\n"
    }
   },
   "source": [
    "\n",
    "A *hypothesis* is a statement about the parameter space $\\Theta$.\n",
    "Hypothesis testing checks whether the data support a *null hypothesis*\n",
    "$\\Theta_{0}$, which is a subset of $\\Theta$ of interest. Ideally the\n",
    "null hypothesis should be suggested by scientific theory. The\n",
    "*alternative hypothesis* $\\Theta_{1}=\\Theta\\backslash\\Theta_{0}$ is the\n",
    "complement of $\\Theta_{0}$. Based on the observed evidence, hypothesis\n",
    "testing decides to accept or reject the null hypothesis. If the null\n",
    "hypothesis is rejected by the data, it implies that from the statistical\n",
    "perspective the data are incompatible with the proposed scientific\n",
    "theory.\n"
   ]
  },
  {
   "cell_type": "markdown",
   "id": "36eaa581",
   "metadata": {
    "pycharm": {
     "name": "#%% md\n"
    }
   },
   "source": [
    "\n",
    "\n",
    "\n",
    "Let $\\phi(\\mathbf{X};\\theta)$ be the *decision function*. It takes value \"1\" when $\\theta$ is rejected as a null hypothesis, and it takes value \"0\" otherwise.\n",
    "We define the power function $\\beta(\\theta) = E[ \\phi(\\mathbf{X};\\theta) ]$, which is the probability of rejecting a null hypothesis $\\theta$.\n",
    "\n",
    "Actions, States and Consequences:\n",
    "\n",
    "------------------------------------------------------------------------\n",
    "                    |   accept $H_{0}$  |   reject $H_{0}$\n",
    "      $H_{0}$ true  |  correct decision |    Type I error\n",
    "      $H_{0}$ false |   Type II error   |  correct decision\n",
    "------------------------------------------------------------------------\n",
    "\n",
    "-   The *probability of committing Type I error* is\n",
    "    $\\beta\\left(\\theta\\right)$ for some $\\theta\\in\\Theta_{0}$.\n",
    "\n",
    "-   The *probability of committing Type II error* is\n",
    "    $1-\\beta\\left(\\theta\\right)$ for some $\\theta\\in\\Theta_{1}$.\n"
   ]
  },
  {
   "cell_type": "markdown",
   "id": "9fa5c7d4",
   "metadata": {
    "pycharm": {
     "name": "#%% md\n"
    }
   },
   "source": [
    "\n",
    "The philosophy on hypothesis testing has been debated for a long time. At\n",
    "present the prevailing framework in statistics textbooks is the\n",
    "*frequentist perspective*. Frequentist views the parameter as fixed. They keep a conservative attitude about the Type I error: Only\n",
    "if overwhelming evidence is revealed shall a researcher reject the\n",
    "null. Under the principle of protecting the null hypothesis, a desirable\n",
    "test should have a small level. Conventionally we take $\\alpha=0.01,$\n",
    "$0.05$ or $0.1$. We say a test is *unbiased* if\n",
    "\n",
    "$$\\inf_{\\theta\\in\\Theta_{1}}\\beta\\left(\\theta\\right)>\\sup_{\\theta\\in\\Theta_{0}}\\beta\\left(\\theta\\right).$$\n",
    "\n",
    "There can be many tests of correct size.\n"
   ]
  },
  {
   "cell_type": "markdown",
   "metadata": {},
   "source": [
    "**Remark**\n",
    "\n",
    "Let $\\mathbf{x} = (x_1, x_2, \\ldots, x_n)$.\n",
    "A trivial test function\n",
    "$\\phi(\\mathbf{x})=1\\left\\{ 0\\leq U\\leq\\alpha\\right\\}$ for all\n",
    "$\\theta\\in\\Theta$, where $U$ is a random variable from a uniform\n",
    "distribution on $\\left[0,1\\right]$, has the correct size $\\alpha$ but no\n",
    "non-trivial power at the alternative. On the other extreme, the trivial\n",
    "test function $\\phi(\\mathbf{x})=1$ for all $\\mathbf{x}$\n",
    "enjoys the biggest power but suffers incorrect size.\n"
   ]
  },
  {
   "cell_type": "markdown",
   "metadata": {},
   "source": [
    "\n",
    "Usually, we design a test by proposing a test statistic\n",
    "$T_{n}$ and a corresponding critical value\n",
    "$c_{1-\\alpha}$. Given $T_{n}$ and $c_{1-\\alpha}$, we write the test\n",
    "function as\n",
    "\n",
    "$$\n",
    "\\phi(\\mathbf{X})=1\\left\\{ T_{n} (\\mathbf{X})>c_{1-\\alpha}\\right\\}.\n",
    "$$\n",
    "\n",
    "To ensure such a $\\phi(\\mathbf{x})$ has the correct size, we need\n",
    "to figure out the distribution of $T_{n}$ under the null hypothesis\n",
    "(called the *null distribution*), and choose a critical value\n",
    "$c_{1-\\alpha}$ according to the null distribution where $\\alpha$\n",
    "is the desirable size or level.\n"
   ]
  },
  {
   "cell_type": "code",
   "execution_count": null,
   "metadata": {
    "pycharm": {
     "name": "#%%\n"
    },
    "vscode": {
     "languageId": "r"
    }
   },
   "outputs": [],
   "source": [
    "# set the null hypothesis as 6\n",
    "# the following line gives the t-stat\n",
    "(mu-6)/(sigma/sqrt(n))"
   ]
  },
  {
   "cell_type": "markdown",
   "metadata": {
    "pycharm": {
     "name": "#%% md\n"
    }
   },
   "source": [
    "\n",
    "Another commonly popular indicator for the compatibility between the data and the null hypothesis is the $p$-value:\n",
    "\n",
    "$$\\sup_{\\theta\\in\\Theta_{0}}P_{\\theta}\\left\\{ T_{n}\\left({\\mathbf{x}}\\right)\\leq T_{n}\\left(\\mathbf{X}\\right)\\right\\}.$$\n",
    "\n",
    "In the above expression, $T_{n}\\left(\\mathbf{x}\\right)$ is the realized\n",
    "value of the test statistic $T_{n}$, while\n",
    "$T_{n}\\left(\\mathbf{X}\\right)$ is the random variable generated by\n",
    "$\\mathbf{X}$ under the null $\\theta\\in\\Theta_{0}$. The interpretation of\n",
    "the $p$-value is tricky. $p$-value is the probability, when the null hypothesis is true,\n",
    "that we observe\n",
    "$T_{n}(\\mathbf{X})$ being greater than the realized $T_{n}(\\mathbf{x})$.\n",
    "\n",
    "The $p$-value is *not* the probability that the null hypothesis is true.\n",
    "Under the frequentist perspective, the null hypothesis is either true or\n",
    "false, with certainty. The randomness of a test comes only from\n",
    "sampling, not from the hypothesis at all."
   ]
  },
  {
   "cell_type": "markdown",
   "metadata": {
    "pycharm": {
     "name": "#%% md\n"
    }
   },
   "source": [
    "### Connections\n",
    "\n",
    "Given the same sample and the underlying approach,\n",
    "hypothesis testing, confidence interval, and $p$-value are tightly connected. The followings are equivalent: \n",
    "\n",
    "* The hypothesized value is rejected by a test of size $\\alpha$;\n",
    "* The hypothesized value is excluded by the confidence interval of coverage probability $(1-\\alpha)$;\n",
    "* Its $p$-value under the hypothesized value is smaller than $\\alpha$.\n",
    "\n",
    "On the opposite side of the coin, the followings are the equivalent as well:\n",
    "\n",
    "* The hypothesized value is not rejected by a test of size $\\alpha$;\n",
    "* The hypothesized value is included by the confidence interval of coverage probability $(1-\\alpha)$;\n",
    "* Its $p$-value under the hypothesized value is large than $\\alpha$.\n",
    "\n",
    "The one-to-one mapping between the points in the confidence interval and the outcome of the test allows constructing the \n",
    "confidence interval by inverting the  test. In words, if we collect all points that are not rejected by the test of size $\\alpha$, we obtain the confidence interval of coverage probability $(1-\\alpha)$."
   ]
  },
  {
   "cell_type": "markdown",
   "metadata": {
    "pycharm": {
     "name": "#%% md\n"
    }
   },
   "source": [
    "### Revealing the population\n",
    "\n",
    "As in the previous lecture, we view the HK top 300 Youtubers as the population. "
   ]
  },
  {
   "cell_type": "code",
   "execution_count": null,
   "metadata": {
    "pycharm": {
     "name": "#%%\n"
    },
    "vscode": {
     "languageId": "r"
    }
   },
   "outputs": [],
   "source": [
    "load(\"logYoutuber.Rdata\")\n",
    "N = nrow(d1.log) # population size"
   ]
  },
  {
   "cell_type": "code",
   "execution_count": null,
   "metadata": {
    "pycharm": {
     "name": "#%%\n"
    },
    "vscode": {
     "languageId": "r"
    }
   },
   "outputs": [],
   "source": [
    "mean(d1.log$count)\n",
    "cor(d1.log$subs,  d1.log$view)"
   ]
  },
  {
   "cell_type": "code",
   "execution_count": null,
   "metadata": {
    "pycharm": {
     "name": "#%%\n"
    },
    "vscode": {
     "languageId": "r"
    }
   },
   "outputs": [],
   "source": [
    "subsample.mean <- function(j) { mean( d1.log$count[sample(1:N, n) ] ) }"
   ]
  },
  {
   "cell_type": "markdown",
   "metadata": {
    "pycharm": {
     "name": "#%% md\n"
    }
   },
   "source": [
    "### Random Sampling\n",
    "\n",
    "Each sample is random. It means that $\\hat{\\mu}$ is a random variable across the potential samples. In this population the total number of \n",
    "outcomes is $N=300$. For a sample of size $n=100$, there are at most \n",
    "\n",
    "$$\n",
    "\\binom {N} {n} = \\binom {300} {100} = 4.15\\times 10^{81}\n",
    "$$\n",
    "\n",
    "possibilities for the sample mean. This is a number as large as all the atoms in the universe."
   ]
  },
  {
   "cell_type": "code",
   "execution_count": null,
   "metadata": {
    "pycharm": {
     "name": "#%%\n"
    },
    "vscode": {
     "languageId": "r"
    }
   },
   "outputs": [],
   "source": [
    "# average of each \"potential\" sample\n",
    "rep.mean <- plyr::laply(.data = 1:200,\n",
    "                        .fun  = subsample.mean )"
   ]
  },
  {
   "cell_type": "code",
   "execution_count": null,
   "metadata": {
    "pycharm": {
     "name": "#%%\n"
    },
    "vscode": {
     "languageId": "r"
    }
   },
   "outputs": [],
   "source": [
    "hist(rep.mean)"
   ]
  },
  {
   "cell_type": "markdown",
   "metadata": {
    "pycharm": {
     "name": "#%% md\n"
    }
   },
   "source": [
    "## Multivariate Variables"
   ]
  },
  {
   "cell_type": "markdown",
   "metadata": {
    "pycharm": {
     "name": "#%% md\n"
    }
   },
   "source": [
    "For a bivariate random vector $(X_i,Y_i)$,  \n",
    "\n",
    "* Covariance \n",
    "\n",
    "$$\n",
    "\\hat{\\sigma}_{XY} = \\frac{1}{n} \\sum_{i=1}^n (X_i - \\bar{X}) (Y_i - \\bar{Y}) = \\frac{1}{n} \\sum_{i=1}^n X_i Y_i - \\bar{X} \\bar{Y}.\n",
    "$$\n",
    "\n",
    "* Correlation coefficient \n",
    "\n",
    "$$\n",
    "\\hat{\\rho}(X,Y ) = \\frac{\\hat{\\sigma}_{XY}} { \\sqrt{ \\hat {\\sigma}^2(X) \\hat {\\sigma}^2(Y) }}\n",
    "$$"
   ]
  },
  {
   "cell_type": "code",
   "execution_count": null,
   "metadata": {
    "pycharm": {
     "name": "#%%\n"
    },
    "vscode": {
     "languageId": "r"
    }
   },
   "outputs": [],
   "source": [
    "cor(d1.log.sub$subs,  d1.log.sub$view)\n",
    "plot(x = d1.log.sub$subs,  y = d1.log.sub$view)"
   ]
  },
  {
   "cell_type": "code",
   "execution_count": null,
   "metadata": {
    "pycharm": {
     "name": "#%%\n"
    },
    "vscode": {
     "languageId": "r"
    }
   },
   "outputs": [],
   "source": [
    "cor(d1.log$subs,  d1.log$view)"
   ]
  },
  {
   "cell_type": "markdown",
   "metadata": {},
   "source": [
    "\n",
    "## Regressions\n",
    "\n",
    "Using machine learning terminologies, so far we have talked about examples of *unsupervised learning*, that is, we extract some features from the observed data. \n",
    "Another category is called *supervised learning*, which is to use a few *independent variables* (regressors) to fit a *dependent variables*. The linear regression is a simple example of such a statistical exercise. \n"
   ]
  },
  {
   "cell_type": "markdown",
   "metadata": {},
   "source": [
    "Regression carries out a very simple task. It minimizes the the sum of squared residuals $\\sum_{i=1}^n (y_i - \\hat{y}_i)^2$. \n",
    "In other words, it combines the vector $\\mathbf{x}$ into $\\beta' \\mathbf{x}$ to reduce the variance of $(\\mathbf{y}-\\mathbf{x}'\\beta)$ as much as possible. For any sample $(x_i,y_i)_{i=1}^n$, such an algorithm can be implemented. It has nothing to do with causality.\n",
    "\n",
    "In reality, $(x_i, y_i)$ are observed numbers that the data analyst can only take as given. \n",
    "The *ordinary least squares* is a simple linear algebraic operation.\n",
    "\n",
    "Now we superimpose uncertainty on it. If $X$ is fixed whereas $Y$ is uncertain, we have the conditional model (discriminative model). \n",
    "It is useful for predicting the average outcome of $y$ given an $x$, although not very informative if we are interested in  extrapolating out of the support of the observed $X$. \n",
    "\n",
    "\n"
   ]
  },
  {
   "cell_type": "markdown",
   "metadata": {},
   "source": [
    "\n",
    "If both $(X,Y)$ are uncertain, we have the unconditional model (generative model). The unconditional model can be thought as if it is generated via two steps: \n",
    "First we draw $X$, and then draw $Y|X$. We know $P(X,Y) = P(Y|X)P(X)$. \n",
    "\n",
    "The difference between the conditional model and the unconditional model is more about conceptional difference. They are the same in terms of the linear algebra in the estimation. (Slight difference exits in time series contexts where initial conditions matter in small samples.)\n"
   ]
  },
  {
   "cell_type": "markdown",
   "metadata": {},
   "source": [
    "\n",
    "Let us use the simple regression and elementary algebra to derive the regression coefficient. If both $(X,Y)$ have unit variance, then the regression coefficient is simply the correlation coefficient. More generally, the regression coefficient is proportional to the correlation coefficient:\n",
    "\n",
    "$$\\beta = \\frac{\\sigma_{xy}}{\\sigma_x^2}=\\frac{\\rho \\sigma_x \\sigma_y}{\\sigma_x^2} = \\rho \\frac{\\sigma_y} {\\sigma_x}.$$\n",
    "\n",
    "Given a sample, we use the observed data to compute $\\hat{\\sigma}_{xy}$ and $\\hat{\\sigma}_x^2$, and thereby $\\hat{\\beta}$ is their ratio.\n",
    "\n"
   ]
  },
  {
   "cell_type": "markdown",
   "metadata": {},
   "source": [
    "## Remarks\n",
    "\n",
    "The beauty of statistics lies in their deep connection with philosophy. A realized sample is a set of given numbers. They are fixed, known, and invariant. But where is uncertainty? Bayesians argue that uncertainty comes from people's belief about the object of interest. The data contain information to help refine or update our beliefs. In contrast, frequentists contend that uncertainty is present  before the numbers, or realizations, are revealed; once the realizations are revealed, uncertainty is gone. \n",
    "\n",
    "The two schools of philosophical thoughts, Bayesian and frequentist, have been contesting over centuries. Either has pros and cons. Nowadays in academic research and in teaching, frequentist remains the mainstream so it is the one that we are more familiar with. However, frequentist interpretation of probability and the resulting implication for statistical inference are not completely natural. Repeated experiments are more easily perceived in physics and other natural science, but may be unrealistic in many economic settings. On the other hand, Bayesian encounters difficulty in reaching a consensus about the prior distribution. "
   ]
  },
  {
   "cell_type": "markdown",
   "metadata": {},
   "source": []
  }
 ],
 "metadata": {
  "kernelspec": {
   "display_name": "R",
   "language": "R",
   "name": "ir"
  },
  "language_info": {
   "codemirror_mode": "r",
   "file_extension": ".r",
   "mimetype": "text/x-r-source",
   "name": "R",
   "pygments_lexer": "r",
   "version": "4.1.2"
  },
  "orig_nbformat": 4
 },
 "nbformat": 4,
 "nbformat_minor": 2
}
