{
 "cells": [
  {
   "cell_type": "markdown",
   "metadata": {
    "pycharm": {
     "name": "#%% md\n"
    }
   },
   "source": [
    "# Probability\n"
   ]
  },
  {
   "cell_type": "markdown",
   "metadata": {},
   "source": [
    "\n",
    "Probability theory talks about the construction and implications of probability models. For example, given a probability distribution, what are the mean and variance? What is the distribution of a transformed random variable? In computer simulations, probability theory tells us what will happen to the generated realizations, in particular when the experiments can be repeated as many times as the researcher wishes. This is a real-world analogue of the frequentist's interpretation of probability."
   ]
  },
  {
   "cell_type": "markdown",
   "metadata": {
    "pycharm": {
     "name": "#%% md\n"
    }
   },
   "source": [
    "## Probability Space\n",
    "\n",
    "\n",
    "A *sample space* $\\Omega$ is a collection of all possible outcomes. It is a set of things.\n",
    "\n",
    "An *event* $A$ is a subset of $\\Omega$. It is something of interest on the sample space.\n",
    "\n",
    "A $\\sigma$-*field* is a complete set of events that include all countable unions, interactions, and differences.\n",
    "It is a well-organized structure built on the sample space. "
   ]
  },
  {
   "cell_type": "markdown",
   "metadata": {
    "pycharm": {
     "name": "#%% md\n"
    }
   },
   "source": [
    "\n",
    "A *probability measure* satisfies\n",
    "\n",
    "* (positiveness) $P\\left(A\\right)\\geq0$ for all events;\n",
    "* (countable additivity) If $A_{i}$, $i\\in\\mathbb{N}$, \n",
    "are mutually disjoint, then\n",
    "$P\\left(\\bigcup_{i\\in\\mathbb{N}}A_{i}\\right)=\\sum_{i\\in\\mathbb{N}}\\mu\\left(A_{i}\\right).$\n",
    "* $P(\\Omega) = 1$.\n",
    "\n"
   ]
  },
  {
   "cell_type": "markdown",
   "metadata": {
    "pycharm": {
     "name": "#%% md\n"
    }
   },
   "source": [
    "The above construction gives a mathematically well-defined probability measure, but we have not yet\n",
    "answered \"How to assign the probability?\"\n",
    "\n",
    "There are two major schools of thinking on probability assignment. One is\n",
    "the *frequentist*, who considers probability as the average chance of occurrence if a large number of experiments\n",
    "are carried out. The other is the *Bayesian*, who deems probability as a subjective brief.\n",
    "The principles of these two schools are largely incompatible, while each school has\n",
    "peculiar pros and cons under different real-world contexts."
   ]
  },
  {
   "cell_type": "markdown",
   "metadata": {
    "pycharm": {
     "name": "#%% md\n"
    }
   },
   "source": [
    "## Random Variable\n",
    "\n",
    "A *Random variable* maps an event to a real number. If the outcome is multivariate, we call it a *random vector*.\n"
   ]
  },
  {
   "cell_type": "markdown",
   "metadata": {
    "pycharm": {
     "name": "#%% md\n"
    }
   },
   "source": [
    "**Data example**\n",
    "\n",
    "Data source: [HK top 300 Youtubers](https://www.kaggle.com/datasets/patriotboy112/hks-top-300-youtubers). We look at the number of uploaded videos in these accounts."
   ]
  },
  {
   "cell_type": "code",
   "execution_count": null,
   "metadata": {
    "pycharm": {
     "is_executing": true,
     "name": "#%%\n"
    },
    "vscode": {
     "languageId": "r"
    }
   },
   "outputs": [],
   "source": [
    "d0 = readr::read_csv(\"HKTop300YouTubers.csv\")\n",
    "print(d0)\n",
    "\n",
    "library(magrittr)\n",
    "\n",
    "# remove NA and zeros\n",
    "d0[ d0 == 0 ] <- NA\n",
    "sel <- d0 %>% is.na( ) %>% apply( 1, any)\n",
    "d0 %<>% dplyr::filter( !sel )\n",
    "\n",
    "d1 <- d0 %>% dplyr::select(3:5)\n",
    "names(d1) <- c(\"subs\", \"view\", \"count\")\n"
   ]
  },
  {
   "cell_type": "code",
   "execution_count": null,
   "metadata": {
    "pycharm": {
     "name": "#%%\n"
    },
    "vscode": {
     "languageId": "r"
    }
   },
   "outputs": [],
   "source": [
    "print( d1[[\"count\"]] )"
   ]
  },
  {
   "cell_type": "code",
   "execution_count": null,
   "metadata": {
    "pycharm": {
     "name": "#%%\n"
    },
    "vscode": {
     "languageId": "r"
    }
   },
   "outputs": [],
   "source": [
    "hist(d1[[\"count\"]])"
   ]
  },
  {
   "cell_type": "code",
   "execution_count": null,
   "metadata": {
    "pycharm": {
     "name": "#%%\n"
    },
    "vscode": {
     "languageId": "r"
    }
   },
   "outputs": [],
   "source": [
    "d1.log <- log(d1)\n",
    "hist(d1.log[[\"count\"]])"
   ]
  },
  {
   "cell_type": "markdown",
   "metadata": {
    "pycharm": {
     "name": "#%% md\n"
    }
   },
   "source": [
    "## Distribution Function\n",
    "\n",
    "We go back to some terminologies we learned in a undergraduate\n",
    "probability course. A *(cumulative) distribution function*\n",
    "$F:\\mathbb{R}\\mapsto [0,1]$ is defined as\n",
    "\n",
    "$$\n",
    "F\\left(x\\right)=P\\left(X\\leq x\\right).\n",
    "$$\n",
    "It is often abbreviated as CDF, and it has the following properties.\n",
    "\n",
    "* $\\lim_{x\\to-\\infty}F\\left(x\\right)=0$,\n",
    "* $\\lim_{x\\to\\infty}F\\left(x\\right)=1$,\n",
    "* non-decreasing,\n",
    "* right-continuous $\\lim_{y\\to x^{+}}F\\left(y\\right)=F\\left(x\\right).$"
   ]
  },
  {
   "cell_type": "code",
   "execution_count": null,
   "metadata": {
    "pycharm": {
     "name": "#%%\n"
    },
    "vscode": {
     "languageId": "r"
    }
   },
   "outputs": [],
   "source": [
    "plot(ecdf(d1.log[[\"count\"]]), verticals = TRUE, do.points = FALSE)"
   ]
  },
  {
   "cell_type": "markdown",
   "metadata": {
    "pycharm": {
     "name": "#%% md\n"
    }
   },
   "source": [
    "The $q$-th quantile of a random variable is $\\min_{x\\in \\mathbb R} P(X \\leq x) \\geq q$."
   ]
  },
  {
   "cell_type": "code",
   "execution_count": null,
   "metadata": {
    "pycharm": {
     "name": "#%%\n"
    },
    "vscode": {
     "languageId": "r"
    }
   },
   "outputs": [],
   "source": [
    "quantile(d1.log[[\"count\"]], probs = 1:4/4 )"
   ]
  },
  {
   "cell_type": "markdown",
   "metadata": {
    "pycharm": {
     "name": "#%% md\n"
    }
   },
   "source": [
    "\n",
    "For a continuous distribution, if its CDF is differentiable, then \n",
    "\n",
    "$$\n",
    "f(x) = d F\\left(x\\right) / d x\n",
    "$$\n",
    "\n",
    "is called the *probability density function* of $X$, often abbreviated as PDF.\n",
    "It is easy to show that $f\\left(x\\right)\\geq0$ and\n",
    "    $\\int_{a}^{b}f\\left(x\\right)dx=F\\left(b\\right)-F\\left(a\\right)$.\n"
   ]
  },
  {
   "cell_type": "markdown",
   "metadata": {
    "pycharm": {
     "name": "#%% md\n"
    }
   },
   "source": [
    "We have learned many parametric distributions. A parametric distribution can be completely \n",
    "characterized by a few parameters."
   ]
  },
  {
   "cell_type": "markdown",
   "metadata": {
    "pycharm": {
     "name": "#%% md\n"
    }
   },
   "source": [
    "**Examples**: \n",
    "\n",
    "* Binomial distribution. \n",
    "\n",
    "$$f(x = k ;p) = \\binom{n}{k}  p^k (1-p)^{n-k}$$\n",
    "\n",
    "* Poisson distribution. \n",
    "\n",
    "$$f(x = k;\\lambda) = \\frac{\\lambda^k \\exp(-\\lambda)}{k!}$$\n",
    "\n",
    "* Uniform distribution. \n",
    "\n",
    "$$f(x; a, b) = \\frac{1}{b-a} \\cdot \\mathbf{1}\\{a\\leq x \\leq b\\}$$\n",
    "\n",
    "* Normal distribution. \n",
    "\n",
    "$$\n",
    "f(x; \\mu, \\sigma^2) = \\frac{1}{\\sqrt{2\\pi} \\sigma} \\exp\\left( - \\frac{(x-\\mu)^2}{2\\sigma^2}\\right)\n",
    "$$\n",
    "\n",
    "Its mean is $\\mu$ and variance $\\sigma^2$.\n",
    "\n",
    "* Log-normal distribution.\n",
    "\n",
    "$$\n",
    "f(x; \\mu, \\sigma^2) = \\frac{1}{\\sqrt{2\\pi} \\sigma} \\exp\\left( - \\frac{(\\log(x)-\\mu)^2}{2\\sigma^2}\\right),\n",
    "$$\n",
    "\n",
    "Its means is $\\exp(\\mu + 0.5 \\sigma^2)$ and variance\n",
    "$[\\exp(\\sigma^2 - 1)] \\exp(2\\mu+ \\sigma^2)$."
   ]
  },
  {
   "cell_type": "markdown",
   "metadata": {
    "pycharm": {
     "name": "#%% md\n"
    }
   },
   "source": [
    " $\\chi^{2}$, $t$, and $F$ distributions.\n"
   ]
  },
  {
   "cell_type": "markdown",
   "metadata": {
    "pycharm": {
     "name": "#%% md\n"
    }
   },
   "source": [
    "**Example** \n",
    "\n",
    "`R` has a rich collection of distributions implemented in a unified pattern:\n",
    "`d` for density, `p` for probability, `q` for quantile, and `r` for random variable generator.\n",
    "For instance, `dnorm`, `pnorm`, `qnorm`, and `rnorm` are the corresponding functions of the normal distribution, and the parameters $\\mu$ and $\\sigma$ can be specified in the arguments of the functions.\n"
   ]
  },
  {
   "cell_type": "code",
   "execution_count": null,
   "metadata": {
    "pycharm": {
     "name": "#%%\n"
    },
    "vscode": {
     "languageId": "r"
    }
   },
   "outputs": [],
   "source": [
    "qnorm(0.975)"
   ]
  },
  {
   "cell_type": "code",
   "execution_count": null,
   "metadata": {
    "pycharm": {
     "name": "#%%\n"
    },
    "vscode": {
     "languageId": "r"
    }
   },
   "outputs": [],
   "source": [
    "pnorm(0)"
   ]
  },
  {
   "cell_type": "code",
   "execution_count": null,
   "metadata": {
    "pycharm": {
     "name": "#%%\n"
    },
    "vscode": {
     "languageId": "r"
    }
   },
   "outputs": [],
   "source": [
    "dnorm(0)"
   ]
  },
  {
   "cell_type": "code",
   "execution_count": null,
   "metadata": {
    "pycharm": {
     "name": "#%%\n"
    },
    "vscode": {
     "languageId": "r"
    }
   },
   "outputs": [],
   "source": [
    "rnorm(3)"
   ]
  },
  {
   "cell_type": "code",
   "execution_count": null,
   "metadata": {
    "pycharm": {
     "name": "#%%\n"
    },
    "vscode": {
     "languageId": "r"
    }
   },
   "outputs": [],
   "source": [
    "rpois(2, 5)"
   ]
  },
  {
   "cell_type": "markdown",
   "metadata": {
    "pycharm": {
     "name": "#%% md\n"
    }
   },
   "source": [
    "\n",
    "Below is a piece of `R` code for demonstration.\n",
    "\n",
    "1. Plot the density of standard normal distribution over an equally spaced grid system `x_axis = seq(-3, 3, by = 0.01)` (black line).\n",
    "2. Generate 1000 observations for $N(0,1)$. Plot the kernel density, a nonparametric estimation of the density (red line).\n",
    "3. Calculate the 95th quantile and the empirical probability of observing a value greater than the 95th quantile.\n",
    "In population, this value is 5%. What is the number coming out of this experiment?\n",
    "\n",
    "(Since we do not fix the random seed in the computer, the outcome is slightly different each time when we run the code.)"
   ]
  },
  {
   "cell_type": "code",
   "execution_count": null,
   "metadata": {
    "pycharm": {
     "name": "#%%\n"
    },
    "vscode": {
     "languageId": "r"
    }
   },
   "outputs": [],
   "source": [
    "x_axis = seq(-3, 3, by = 0.01)\n",
    "\n",
    "y = dnorm(x_axis)\n",
    "plot(y = y, x=x_axis, type = \"l\", xlab = \"value\", ylab = \"density\")\n",
    "z = rnorm(1000)\n",
    "lines( density(z), col = \"red\")\n",
    "crit = qnorm(.95)\n",
    "\n",
    "cat(\"the empirical rejection probability is\", mean( z > crit ), \"\\n\")"
   ]
  },
  {
   "cell_type": "markdown",
   "metadata": {
    "pycharm": {
     "name": "#%% md\n"
    }
   },
   "source": [
    "## Expected Value\n",
    "\n"
   ]
  },
  {
   "cell_type": "markdown",
   "metadata": {
    "pycharm": {
     "name": "#%% md\n"
    }
   },
   "source": [
    "## Integration\n",
    "\n",
    "In probability theory, an integral\n",
    "$\\int X\\mathrm{d}P$ is called the *expected value,* or\n",
    "*expectation,* of $X$. We often use the notation\n",
    "$E\\left[X\\right]$, instead of $\\int X\\mathrm{d}P$, for convenience.\n",
    "\n",
    "The expectation is the average of a random variable,\n",
    "despite that we cannot foresee the realization of a random variable in a particular trial\n",
    "(otherwise there is no uncertainty). In the frequentist's view,\n",
    "the expectation is the average outcome if we carry out a large number of independent\n",
    "trials.\n",
    "\n",
    "If we know the probability mass function of a discrete random variable, its expectation\n",
    "is calculated as $E\\left[X\\right]=\\sum_{x}xP\\left(X=x\\right)$.\n",
    "If a continuous random variable has a PDF $f(x)$, its expectation\n",
    "can be computed as  $E\\left[X\\right]=\\int xf\\left(x\\right)\\mathrm{d}x$.\n",
    "\n",
    "\n"
   ]
  },
  {
   "cell_type": "code",
   "execution_count": null,
   "metadata": {
    "pycharm": {
     "name": "#%%\n"
    },
    "vscode": {
     "languageId": "r"
    }
   },
   "outputs": [],
   "source": [
    "mean( d1.log[[\"count\"]] )"
   ]
  },
  {
   "cell_type": "markdown",
   "metadata": {
    "pycharm": {
     "name": "#%% md\n"
    }
   },
   "source": [
    "\n",
    "Here are some properties of the expectation.\n",
    "\n",
    "\n",
    "-  The probability of an event $A$ is the expectation\n",
    "of an indicator function. $E\\left[1\\left\\{ A\\right\\}  \\right]= 1\\times P(A) + 0 \\times P(A^c) =P\\left(A\\right)$.\n",
    "\n",
    "-   $E\\left[X^{r}\\right]$ is call the $r$-moment of $X$. The *mean* of a random variable is the first moment $\\mu=E\\left[X\\right]$, and\n",
    "the second *centered* moment is called the *variance*\n",
    "$\\mathrm{var}\\left[X\\right]=E [(X-\\mu)^{2}]$."
   ]
  },
  {
   "cell_type": "code",
   "execution_count": null,
   "metadata": {
    "pycharm": {
     "name": "#%%\n"
    },
    "vscode": {
     "languageId": "r"
    }
   },
   "outputs": [],
   "source": [
    "var(d1.log[[\"count\"]])"
   ]
  },
  {
   "cell_type": "markdown",
   "metadata": {},
   "source": [
    "\n",
    "The third centered moment $E\\left[\\left(X-\\mu\\right)^{3}\\right]$,\n",
    "called *skewness*, is a measurement of the\n",
    "symmetry of a random variable, and the fourth centered moment\n",
    "    $E\\left[\\left(X-\\mu\\right)^{4}\\right]$, called *kurtosis*, is\n",
    "     a measurement of the tail thickness.\n",
    "\n",
    "- We call\n",
    "    $E\\left[\\left(X-\\mu\\right)^{3}\\right]/\\sigma^{3}$ the *skewness coefficient*, and\n",
    "    $E\\left[\\left(X-\\mu\\right)^{4}\\right]/\\sigma^{4}-3$ *degree of excess*. A normal distribution's  skewness and  degree of excess are both zero.\n",
    "\n",
    "    -   **Application**: [The formula that killed Wall\n",
    "        Street](http://archive.wired.com/techbiz/it/magazine/17-03/wp_quant?currentPage=all)\n",
    "\n",
    "- Moments do not always exist. For example, the mean of the Cauchy distribution does not exist,\n",
    "and the variance of the $t(2)$ distribution does not exist.\n",
    "\n",
    "- $E[\\cdot]$ is a linear operation. $E[a X_1 + b X_2] = a E[X_1] + b E[X_2].$\n",
    "\n",
    "-   *Jensen's inequality* is an important fact.\n",
    "A function $\\varphi(\\cdot)$ is convex if\n",
    "$\\varphi( a x_1 + (1-a) x_2 ) \\leq a \\varphi(x_1) + (1-a) \\varphi(x_2)$ for all $x_1,x_2$\n",
    "in the domain and $a\\in[0,1]$. For instance, $x^2$ is a convex function.\n",
    "Jensen's inequality says that if $\\varphi\\left(\\cdot\\right)$ is a convex\n",
    "    function, then\n",
    "\n",
    "    $$\n",
    "    \\varphi\\left(E\\left[X\\right]\\right)\\leq E\\left[\\varphi\\left(X\\right)\\right].\n",
    "    $$\n",
    "\n",
    "- *Markov inequality* is another simple but important fact. If $E\\left[\\left|X\\right|^{r}\\right]$\n",
    "    exists, then\n",
    "\n",
    "    $$\n",
    "    P\\left(\\left|X\\right|>\\epsilon\\right)\\leq E\\left[\\left|X\\right|^{r}\\right]/\\epsilon^{r}\n",
    "    $$\n",
    "    \n",
    "    for all $r\\geq1$. *Chebyshev inequality* $P\\left(\\left|X\\right|>\\epsilon\\right)\\leq E\\left[X^{2}\\right]/\\epsilon^{2}$\n",
    "    is a special case of the Markov inequality when $r=2$.\n"
   ]
  },
  {
   "cell_type": "markdown",
   "metadata": {
    "pycharm": {
     "name": "#%% md\n"
    }
   },
   "source": [
    "## Multivariate Random Variable\n",
    "\n",
    "A bivariate random variable is a vector of two scalar random variables. More generally, a multivariate random variable has the *joint CDF* as\n",
    "\n",
    "$$\n",
    "F\\left(x_{1},\\ldots,x_{n}\\right)=P\\left(X_{1}\\leq x_{1},\\ldots,X_{n}\\leq x_{n}\\right).\n",
    "$$\n",
    "\n",
    "Joint PDF is defined similarly."
   ]
  },
  {
   "cell_type": "code",
   "execution_count": null,
   "metadata": {
    "pycharm": {
     "name": "#%%\n"
    },
    "vscode": {
     "languageId": "r"
    }
   },
   "outputs": [],
   "source": [
    "plot(d1.log$subs, d1.log$view)"
   ]
  },
  {
   "cell_type": "markdown",
   "metadata": {
    "pycharm": {
     "name": "#%% md\n"
    }
   },
   "source": [
    "\n",
    "It is sufficient to introduce the joint distribution, conditional distribution\n",
    "and marginal distribution in the simple bivariate case, and these definitions\n",
    "can be extended to multivariate distributions. Suppose\n",
    "a bivariate random variable $(X,Y)$ has a joint density\n",
    "$f(\\cdot,\\cdot)$.\n",
    "The  *conditional density* can be written as  $f\\left(y|x\\right)=f\\left(x,y\\right)/f\\left(x\\right)$  for $f(x) \\neq 0$.\n",
    "The *marginal density* $f\\left(y\\right)=\\int f\\left(x,y\\right)dx$ integrates out\n",
    "the coordinate that is not interested."
   ]
  },
  {
   "cell_type": "markdown",
   "metadata": {
    "pycharm": {
     "name": "#%% md\n"
    }
   },
   "source": [
    "## Independence\n",
    "\n",
    "For two events $A_1$ and $A_2$, the *conditional probability* is\n",
    "\n",
    "$$\n",
    "P\\left(A_1|A_2\\right) = \\frac{P\\left(A_1 A_2\\right)}{ P\\left(A_2\\right) }\n",
    "$$ \n",
    "\n",
    "if $P(A_2) \\neq  0$. \n",
    "In this definition of conditional probability, $A_2$ plays\n",
    "the role of the outcome space  so that\n",
    " $P(A_1 A_2)$ is standardized by the total mass $P(A_2)$.\n",
    "\n",
    "Since $A_1$ and $A_2$ are symmetric, we have $P(A_1 A_2) = P(A_2|A_1)P(A_1)$.\n",
    "It implies\n",
    "\n",
    "$$\n",
    "P(A_1 | A_2)=\\frac{P\\left(A_2| A_1\\right)P\\left(A_1\\right)}{P\\left(A_2\\right)}\n",
    "$$\n",
    "\n",
    "This formula is the well-known *Bayes' Theorem*, which is a cornerstone of\n",
    "*decision theory*.\n"
   ]
  },
  {
   "cell_type": "markdown",
   "metadata": {
    "pycharm": {
     "name": "#%% md\n"
    }
   },
   "source": [
    "\n",
    "**Example** \n",
    "\n",
    "$A_1$ is the event \"a student can survive CUHK's MSc program\", and $A_2$ is\n",
    "his or her application profile.\n"
   ]
  },
  {
   "cell_type": "markdown",
   "metadata": {
    "pycharm": {
     "name": "#%% md\n"
    }
   },
   "source": [
    "\n",
    "\n",
    "We say two events $A_1$ and $A_2$ are *independent* if $P(A_1A_2) = P(A_1)P(A_2)$.\n",
    "If $P(A_2) \\neq 0$, it is equivalent to $P(A_1 | A_2 ) = P(A_1)$.\n",
    "In words, knowing $A_2$ does not change the probability of $A_1$.\n",
    "\n",
    "If $X$ and $Y$ are independent, $E[XY] = E[X]E[Y]$.\n",
    "\n",
    "<!-- **Application** (Chebyshev law of large numbers) \n",
    "\n",
    "If\n",
    "$X_{1},X_{2},\\ldots,X_{n}$ are independent and identically distributed,\n",
    "with mean $0$ and variance $\\sigma^{2}<\\infty$. Let\n",
    "$Z_{n}=\\frac{1}{n}\\sum_{i=1}^{n} X_{i}$. Then the\n",
    "probability $P\\left(\\left|Z_{n}\\right|>\\epsilon\\right)\\to0$ as\n",
    "$n\\to\\infty$. -->\n"
   ]
  },
  {
   "cell_type": "code",
   "execution_count": null,
   "metadata": {
    "pycharm": {
     "name": "#%%\n"
    },
    "vscode": {
     "languageId": "r"
    }
   },
   "outputs": [],
   "source": [
    "Y <- matrix(rnorm(200), ncol = 2)\n",
    "plot(x = Y[, 1], y = Y[, 2])"
   ]
  },
  {
   "cell_type": "code",
   "execution_count": null,
   "metadata": {
    "pycharm": {
     "name": "#%%\n"
    },
    "vscode": {
     "languageId": "r"
    }
   },
   "outputs": [],
   "source": [
    "Y <- matrix(rnorm(200), ncol = 2) %*% matrix( c(1, 0.5, 0.5, 1), 2 )\n",
    "plot(x = Y[, 1], y = Y[, 2])"
   ]
  },
  {
   "cell_type": "markdown",
   "metadata": {
    "pycharm": {
     "name": "#%% md\n"
    }
   },
   "source": [
    "## Law of Iterated Expectations\n"
   ]
  },
  {
   "cell_type": "markdown",
   "metadata": {
    "pycharm": {
     "name": "#%% md\n"
    }
   },
   "source": [
    "\n",
    "\n",
    "In the bivariate case, if the conditional density exists, the conditional expectation can be computed as\n",
    "    $E\\left[Y|X\\right]=\\int yf\\left(y|X\\right)dy$.\n",
    "The law of iterated expectation implies $E\\left[E\\left[Y|X\\right]\\right]=E\\left[Y\\right]$.\n"
   ]
  },
  {
   "cell_type": "code",
   "execution_count": null,
   "metadata": {
    "pycharm": {
     "name": "#%%\n"
    },
    "vscode": {
     "languageId": "r"
    }
   },
   "outputs": [],
   "source": [
    "dx <- d1.log %>% \n",
    "  tibble::add_column(category = d0$category) %>%\n",
    "  dplyr::group_by(category) %>%\n",
    "  dplyr::summarize(mean = mean(count), no = dplyr::n() )\n",
    "print(dx)\n",
    "\n",
    "print( sum( dx$mean * ( dx$no/nrow(d1.log) ) ) ) # average over categories\n",
    "print( mean(d1.log[[\"count\"]])) # overall average"
   ]
  },
  {
   "cell_type": "markdown",
   "metadata": {
    "pycharm": {
     "name": "#%% md\n"
    }
   },
   "source": [
    "\n",
    "\n",
    "Below are some properties of conditional expectations\n",
    "\n",
    "1.  $E\\left[E\\left[Y|X_{1},X_{2}\\right]|X_{1}\\right]=E\\left[Y|X_{1}\\right];$\n",
    "2.  $E\\left[E\\left[Y|X_{1}\\right]|X_{1},X_{2}\\right]=E\\left[Y|X_{1}\\right];$\n",
    "3.  $E\\left[h\\left(X\\right)Y|X\\right]=h\\left(X\\right)E\\left[Y|X\\right].$\n",
    "\n",
    "**Application**\n",
    "\n",
    "Regression is a technique that decomposes a random variable $Y$\n",
    "into two parts, a conditional mean and a residual. Write\n",
    " $Y=E\\left[Y|X\\right]+\\epsilon$, where\n",
    "$\\epsilon=Y-E\\left[Y|X\\right]$. Show that $E[\\epsilon] = 0$ and  $E[\\epsilon E[Y|X] ] = 0$."
   ]
  },
  {
   "cell_type": "code",
   "execution_count": null,
   "metadata": {
    "pycharm": {
     "name": "#%%\n"
    },
    "vscode": {
     "languageId": "r"
    }
   },
   "outputs": [],
   "source": [
    "# readr::write_csv(d1.log, file = \"logYoutuber.csv\")\n",
    "save(d1.log, file = \"logYoutuber.Rdata\")"
   ]
  },
  {
   "cell_type": "code",
   "execution_count": null,
   "metadata": {
    "pycharm": {
     "name": "#%%\n"
    },
    "vscode": {
     "languageId": "r"
    }
   },
   "outputs": [],
   "source": [
    "# save a random subsmaple\n",
    "d1.log.sub <- d1.log[sample(1:nrow(d1.log), 100), ]\n",
    "save(d1.log.sub, file = \"logYoutuber_sample.Rdata\")"
   ]
  }
 ],
 "metadata": {
  "kernelspec": {
   "display_name": "R",
   "language": "R",
   "name": "ir"
  },
  "language_info": {
   "codemirror_mode": "r",
   "file_extension": ".r",
   "mimetype": "text/x-r-source",
   "name": "R",
   "pygments_lexer": "r",
   "version": "4.1.2"
  }
 },
 "nbformat": 4,
 "nbformat_minor": 2
}
