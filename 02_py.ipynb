{
 "cells": [
  {
   "cell_type": "code",
   "execution_count": 1,
   "metadata": {},
   "outputs": [],
   "source": [
    "import numpy as np\n",
    "import pandas as pd"
   ]
  },
  {
   "cell_type": "code",
   "execution_count": 2,
   "metadata": {},
   "outputs": [],
   "source": [
    "df = pd.read_csv('HK300_subsample.csv')\n",
    "n = len(df)"
   ]
  },
  {
   "cell_type": "code",
   "execution_count": 4,
   "metadata": {},
   "outputs": [],
   "source": [
    "mu = np.mean(df['subs'])"
   ]
  },
  {
   "cell_type": "code",
   "execution_count": 5,
   "metadata": {},
   "outputs": [],
   "source": [
    "sigma = np.std(df['subs'])"
   ]
  },
  {
   "cell_type": "code",
   "execution_count": 9,
   "metadata": {},
   "outputs": [
    {
     "name": "stdout",
     "output_type": "stream",
     "text": [
      "[-0.23873712781550732, 1.0080854105357477]\n"
     ]
    }
   ],
   "source": [
    "x = np.random.randn(20)\n",
    "print( [np.mean(x), np.std(x)])"
   ]
  },
  {
   "cell_type": "code",
   "execution_count": 19,
   "metadata": {},
   "outputs": [
    {
     "ename": "KeyError",
     "evalue": "0",
     "output_type": "error",
     "traceback": [
      "\u001b[1;31m---------------------------------------------------------------------------\u001b[0m",
      "\u001b[1;31mKeyError\u001b[0m                                  Traceback (most recent call last)",
      "Cell \u001b[1;32mIn[19], line 15\u001b[0m\n\u001b[0;32m     12\u001b[0m     \u001b[39mreturn\u001b[39;00m ({\u001b[39m'\u001b[39m\u001b[39mupper\u001b[39m\u001b[39m'\u001b[39m: upper, \u001b[39m'\u001b[39m\u001b[39mlower\u001b[39m\u001b[39m'\u001b[39m: lower})\n\u001b[0;32m     14\u001b[0m \u001b[39m# compute confidence interval for the number of subscribers\u001b[39;00m\n\u001b[1;32m---> 15\u001b[0m CI(df[\u001b[39m'\u001b[39m\u001b[39msubs\u001b[39m\u001b[39m'\u001b[39m])[\u001b[39m0\u001b[39m]\n",
      "\u001b[1;31mKeyError\u001b[0m: 0"
     ]
    }
   ],
   "source": [
    "# define an function to compute confidence interval\n",
    "def CI(x):\n",
    "\n",
    "    x = np.array(x)\n",
    "    n = len(x)\n",
    "\n",
    "    mu, sig = ( np.mean(x), np.std(x) )\n",
    "\n",
    "    upper, lower =  (mu + 1.96 / np.sqrt(n) * sig,\n",
    "                     mu - 1.96 / np.sqrt(n) * sig)\n",
    "\n",
    "    return ({'upper': upper, 'lower': lower})\n",
    "\n",
    "# compute confidence interval for the number of subscribers\n",
    "CI(df['subs'])\n"
   ]
  },
  {
   "cell_type": "code",
   "execution_count": 21,
   "metadata": {},
   "outputs": [
    {
     "name": "stdout",
     "output_type": "stream",
     "text": [
      "empirical coverage probability:  0.894\n"
     ]
    }
   ],
   "source": [
    "Rep = 1000\n",
    "sample_size = 10\n",
    "capture = np.zeros(Rep)\n",
    "Bounds = np.zeros((Rep,2))\n",
    "\n",
    "for i in range(Rep):\n",
    "    mu = 2\n",
    "    x = np.random.poisson(mu,sample_size)\n",
    "    bounds = CI(x)\n",
    "    capture[i] = (bounds['lower'] <= mu <= bounds['upper'])\n",
    "    Bounds[i,:] = [bounds['lower'], bounds['upper']]\n",
    "\n",
    "print('empirical coverage probability: ', np.mean(capture))"
   ]
  },
  {
   "cell_type": "code",
   "execution_count": 24,
   "metadata": {},
   "outputs": [
    {
     "name": "stdout",
     "output_type": "stream",
     "text": [
      "[[0.86613574 2.53386426]\n",
      " [1.73617935 2.66382065]\n",
      " [1.91355382 3.48644618]\n",
      " [1.13244805 2.46755195]\n",
      " [1.19603523 2.60396477]\n",
      " [0.86488741 2.13511259]\n",
      " [0.74217422 1.85782578]\n",
      " [0.70981278 2.09018722]\n",
      " [1.43183142 3.36816858]\n",
      " [0.97773386 2.62226614]\n",
      " [1.16206269 3.03793731]\n",
      " [0.51355382 2.08644618]\n",
      " [1.16844243 2.83155757]\n",
      " [1.65623229 3.14376771]\n",
      " [0.53244805 1.86755195]\n",
      " [0.9058062  3.4941938 ]\n",
      " [1.31586149 3.68413851]\n",
      " [1.32103608 2.67896392]\n",
      " [1.24783531 3.15216469]\n",
      " [0.84632908 2.95367092]\n",
      " [1.25966529 2.34033471]\n",
      " [1.28434844 3.51565156]\n",
      " [1.51933058 3.68066942]\n",
      " [1.80830973 3.79169027]\n",
      " [1.83193803 2.96806197]]\n"
     ]
    }
   ],
   "source": [
    "Bound25 = Bounds[0:25, :]\n",
    "print(Bound25)"
   ]
  },
  {
   "cell_type": "code",
   "execution_count": 35,
   "metadata": {},
   "outputs": [
    {
     "data": {
      "text/plain": [
       "<matplotlib.lines.Line2D at 0x202a9dfa810>"
      ]
     },
     "execution_count": 35,
     "metadata": {},
     "output_type": "execute_result"
    },
    {
     "data": {
      "image/png": "[encoded data removed]",
      "text/plain": [
       "<Figure size 640x480 with 1 Axes>"
      ]
     },
     "metadata": {},
     "output_type": "display_data"
    }
   ],
   "source": [
    "import matplotlib.pyplot as plt\n",
    "# plt.plot(1)\n",
    "plt.xlim([1, 25])\n",
    "plt.ylim([np.min(Bound25), np.max(Bound25)])\n",
    "for i in range(25):\n",
    "    plt.plot([i+1, i+1], [Bound25[i, 0], Bound25[i, 1]], color='red')\n",
    "plt.axhline(y=2, color='black', linestyle='--', linewidth=2)\n"
   ]
  },
  {
   "cell_type": "code",
   "execution_count": 40,
   "metadata": {},
   "outputs": [],
   "source": [
    "df_pop = pd.read_csv('HK295.csv')\n",
    "N = len(df_pop)"
   ]
  },
  {
   "cell_type": "code",
   "execution_count": 41,
   "metadata": {},
   "outputs": [
    {
     "data": {
      "text/plain": [
       "6.170330768762556"
      ]
     },
     "execution_count": 41,
     "metadata": {},
     "output_type": "execute_result"
    }
   ],
   "source": [
    "np.mean(df_pop['count'])"
   ]
  },
  {
   "cell_type": "code",
   "execution_count": 45,
   "metadata": {},
   "outputs": [],
   "source": [
    "np.corrcoef(df_pop['subs'], df_pop['view'])"
   ]
  },
  {
   "cell_type": "code",
   "execution_count": 49,
   "metadata": {},
   "outputs": [
    {
     "data": {
      "text/plain": [
       "0.8541280431637372"
      ]
     },
     "execution_count": 49,
     "metadata": {},
     "output_type": "execute_result"
    }
   ],
   "source": [
    "# np.cov returns the 2*2 matrix\n",
    "np.cov(df_pop['subs'], df_pop['view'])[0,1]"
   ]
  },
  {
   "cell_type": "code",
   "execution_count": 71,
   "metadata": {},
   "outputs": [],
   "source": [
    "# a function with no arguments\n",
    "\n",
    "def subsample_mean():\n",
    "    index_sub = np.random.choice(range(N), size=100, replace=False)\n",
    "    return np.mean(df_pop.loc[index_sub, 'count'])\n",
    "\n",
    "many_means = [subsample_mean() for j in range(1000)]"
   ]
  },
  {
   "cell_type": "code",
   "execution_count": 72,
   "metadata": {},
   "outputs": [
    {
     "data": {
      "text/plain": [
       "(array([  1.,   2.,  29.,  81., 180., 246., 247., 142.,  57.,  15.]),\n",
       " array([5.65031139, 5.73885633, 5.82740126, 5.91594619, 6.00449113,\n",
       "        6.09303606, 6.181581  , 6.27012593, 6.35867086, 6.4472158 ,\n",
       "        6.53576073]),\n",
       " <BarContainer object of 10 artists>)"
      ]
     },
     "execution_count": 72,
     "metadata": {},
     "output_type": "execute_result"
    },
    {
     "data": {
      "image/png": "[encoded data removed]",
      "text/plain": [
       "<Figure size 640x480 with 1 Axes>"
      ]
     },
     "metadata": {},
     "output_type": "display_data"
    }
   ],
   "source": [
    "plt.hist(many_means)"
   ]
  },
  {
   "cell_type": "code",
   "execution_count": 59,
   "metadata": {},
   "outputs": [
    {
     "name": "stdout",
     "output_type": "stream",
     "text": [
      "[137 130  49  87  19 190  77 155 236 131   8 260 109 113 217  82  55  95\n",
      " 166  43 115 209 162  25  34  35  23 188  96 246   4   3 266  84 170  37\n",
      " 129  40 291  99 112  14 192 253 264 144 111 245 174  32 263 208  28 104\n",
      " 127  71 242  90 234 206 205 122 223 140 221 172  81   9 211  93  74  57\n",
      " 222  76 214 116 218 128 169 216 185 107 117 239 143  21 262  80  92 292\n",
      " 252  97 237  18 248  16 121 189 176 100]\n"
     ]
    }
   ],
   "source": [
    "index_sub = np.random.choice(range(N), size=100, replace=False)\n",
    "print(index_sub)"
   ]
  }
 ],
 "metadata": {
  "kernelspec": {
   "display_name": "base",
   "language": "python",
   "name": "python3"
  },
  "language_info": {
   "codemirror_mode": {
    "name": "ipython",
    "version": 3
   },
   "file_extension": ".py",
   "mimetype": "text/x-python",
   "name": "python",
   "nbconvert_exporter": "python",
   "pygments_lexer": "ipython3",
   "version": "3.11.3"
  },
  "orig_nbformat": 4
 },
 "nbformat": 4,
 "nbformat_minor": 2
}
